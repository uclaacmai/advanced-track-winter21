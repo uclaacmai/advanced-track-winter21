{
  "nbformat": 4,
  "nbformat_minor": 0,
  "metadata": {
    "colab": {
      "name": "Live skeleton_guided_project.ipynb",
      "provenance": [],
      "collapsed_sections": []
    },
    "kernelspec": {
      "name": "python3",
      "display_name": "Python 3"
    },
    "accelerator": "GPU"
  },
  "cells": [
    {
      "cell_type": "markdown",
      "metadata": {
        "id": "7COyn-xqCC0g"
      },
      "source": [
        "# **Training a CNN to classify the CIFAR-10 dataset**\r\n",
        "Adapted from pytorch.org/tutorials : \"Training a Classifier\"\r\n"
      ]
    },
    {
      "cell_type": "code",
      "metadata": {
        "id": "uEjNBZQQCWN1"
      },
      "source": [
        "# libraries we need\r\n",
        "import torch\r\n",
        "import numpy as np\r\n",
        "import matplotlib.pyplot as plt\r\n",
        "import torchvision\r\n",
        "import torch.nn as nn\r\n",
        "import torch.nn.functional as F"
      ],
      "execution_count": 11,
      "outputs": []
    },
    {
      "cell_type": "code",
      "metadata": {
        "id": "dHOI5nFyEscP",
        "colab": {
          "base_uri": "https://localhost:8080/"
        },
        "outputId": "f50db839-c1b7-4a67-8e65-59fb0260d829"
      },
      "source": [
        "# the whole point of pytorch is to be able to easily train models on GPU's and TPU's\n",
        "# if you have a dedicated GPU, you can download CUDA from Nvidia toolkits\n",
        "# this snippet of code will check if you have cuda installed, and will set the 'device' accordingly\n",
        "# for now, it should probably return \"Running on CPU\"\n",
        "\n",
        "\n",
        "if torch.cuda.is_available():\n",
        "    device = torch.device('cuda:0')\n",
        "    print('Running on GPU')\n",
        "    print(torch.cuda.get_device_name(0))\n",
        "else:\n",
        "    device = torch.device('cpu')\n",
        "    print('Running on CPU')"
      ],
      "execution_count": 12,
      "outputs": [
        {
          "output_type": "stream",
          "text": [
            "Running on GPU\n",
            "Tesla T4\n"
          ],
          "name": "stdout"
        }
      ]
    },
    {
      "cell_type": "markdown",
      "metadata": {
        "id": "HP5cImkf_sLT"
      },
      "source": [
        "## Data processing"
      ]
    },
    {
      "cell_type": "code",
      "metadata": {
        "id": "ZEX9a59QE2Y9",
        "colab": {
          "base_uri": "https://localhost:8080/"
        },
        "outputId": "9c2335bb-d30d-4db2-b7b1-c28fedc16b01"
      },
      "source": [
        "# load the CIFAR 10 training and testing data sets from torchvision.datasets - 10 minutes\n",
        "\n",
        "train_dataset = torchvision.datasets.CIFAR10(root='./cifar10', transform=torchvision.transforms.ToTensor(), download=True)\n",
        "test_dataset = torchvision.datasets.CIFAR10(root='./cifar10', transform=torchvision.transforms.ToTensor(), download=True, train=False)"
      ],
      "execution_count": 13,
      "outputs": [
        {
          "output_type": "stream",
          "text": [
            "Files already downloaded and verified\n",
            "Files already downloaded and verified\n"
          ],
          "name": "stdout"
        }
      ]
    },
    {
      "cell_type": "code",
      "metadata": {
        "id": "t_lcQjTYE4GO"
      },
      "source": [
        "# create training and testing loaders\n",
        "# Hint: this bit of code will be similar to what we wrote last workshop\n",
        "# experiment with batch sizes, other hyperparams\n",
        "# 10 minutes \n",
        "\n",
        "train_loader = torch.utils.data.DataLoader(train_dataset, batch_size=16, shuffle=True)\n",
        "test_loader = torch.utils.data.DataLoader(test_dataset, batch_size=16, shuffle=True)"
      ],
      "execution_count": 14,
      "outputs": []
    },
    {
      "cell_type": "code",
      "metadata": {
        "id": "tqIIVu0iEuZo",
        "colab": {
          "base_uri": "https://localhost:8080/",
          "height": 266
        },
        "outputId": "c487b5f1-996c-450f-b2a8-0f99815e2635"
      },
      "source": [
        "# visualizing a sample\r\n",
        "# replace \"None\" with an iterator constructed from your train loader and run the cell\r\n",
        "# to visualize a sample in the set\r\n",
        "# 2 min\r\n",
        "\r\n",
        "train_iter = iter(train_loader) # convert your train loader to an iterator\r\n",
        "\r\n",
        "batch_images, batch_labels = next(train_iter)\r\n",
        "image, label = batch_images[0], batch_labels[0]\r\n",
        "plt.imshow(image.permute(1,2,0))\r\n",
        "plt.show()"
      ],
      "execution_count": 15,
      "outputs": [
        {
          "output_type": "display_data",
          "data": {
            "image/png": "[encoded data removed]",
            "text/plain": [
              "<Figure size 432x288 with 1 Axes>"
            ]
          },
          "metadata": {
            "tags": [],
            "needs_background": "light"
          }
        }
      ]
    },
    {
      "cell_type": "markdown",
      "metadata": {
        "id": "tYB1MDAx_171"
      },
      "source": [
        "## Building the model"
      ]
    },
    {
      "cell_type": "markdown",
      "metadata": {
        "id": "xuZ3UvW2FKYJ"
      },
      "source": [
        "Remember, that CNN's have a typical architecture that involve CONV -> Maxpool -> .... -> FC -> ... Output \r\n",
        "\r\n",
        "https://pytorch.org/docs/stable/index.html"
      ]
    },
    {
      "cell_type": "code",
      "metadata": {
        "id": "MQmhlPR4E5bt"
      },
      "source": [
        "# construct your CNN model\n",
        "# we've provided the basic structure of the class you need to implement\n",
        "# replace all the 'None' statements and add in the architecture of your CNN\n",
        "# 20 minutes\n",
        "class CNN(nn.Module):\n",
        "\n",
        "    def __init__(self):\n",
        "        super(CNN, self).__init__()\n",
        "        self.c1 = nn.Conv2d(3, 6, 5, stride=1, padding=2)\n",
        "        self.pool1 = nn.MaxPool2d(kernel_size=2, stride=2)\n",
        "        self.c2 = nn.Conv2d(6, 16, 5, stride=1, padding=2)\n",
        "        self.pool2 = nn.MaxPool2d(kernel_size=2, stride=2)\n",
        "        self.flat = nn.Flatten()\n",
        "        self.d1 = nn.Linear(1024, 120)\n",
        "        self.d2 = nn.Linear(120, 84)\n",
        "        self.d3 = nn.Linear(84, 10)\n",
        "        \n",
        "    def forward(self, x):\n",
        "        x = self.pool1(F.relu(self.c1(x)))\n",
        "        x = self.pool2(F.relu(self.c2(x)))\n",
        "        x = self.flat(x)\n",
        "        x = F.relu(self.d1(x))\n",
        "        x = F.relu(self.d2(x))\n",
        "        x = self.d3(x) # no need for softmax\n",
        "        return x"
      ],
      "execution_count": 20,
      "outputs": []
    },
    {
      "cell_type": "code",
      "metadata": {
        "id": "9QGZYj5yE7A0",
        "colab": {
          "base_uri": "https://localhost:8080/"
        },
        "outputId": "fc46af10-d782-46f1-833f-7a4c62d8a917"
      },
      "source": [
        "# create an instance of your class\n",
        "# 2 minutes\n",
        "model = CNN()\n",
        "\n",
        "model.to(device) # specify that this model will be stored on the device you chose earlier (GPU or CPU)"
      ],
      "execution_count": 21,
      "outputs": [
        {
          "output_type": "execute_result",
          "data": {
            "text/plain": [
              "CNN(\n",
              "  (c1): Conv2d(3, 6, kernel_size=(5, 5), stride=(1, 1), padding=(2, 2))\n",
              "  (pool1): MaxPool2d(kernel_size=2, stride=2, padding=0, dilation=1, ceil_mode=False)\n",
              "  (c2): Conv2d(6, 16, kernel_size=(5, 5), stride=(1, 1), padding=(2, 2))\n",
              "  (pool2): MaxPool2d(kernel_size=2, stride=2, padding=0, dilation=1, ceil_mode=False)\n",
              "  (flat): Flatten(start_dim=1, end_dim=-1)\n",
              "  (d1): Linear(in_features=1024, out_features=120, bias=True)\n",
              "  (d2): Linear(in_features=120, out_features=84, bias=True)\n",
              "  (d3): Linear(in_features=84, out_features=10, bias=True)\n",
              ")"
            ]
          },
          "metadata": {
            "tags": []
          },
          "execution_count": 21
        }
      ]
    },
    {
      "cell_type": "code",
      "metadata": {
        "id": "miyUpMgDGfIP"
      },
      "source": [
        "# choose your loss function. \r\n",
        "# Hint: since we're doing classification, what is a good choice for the loss function?\r\n",
        "# 3 minutes\r\n",
        "criterion = None"
      ],
      "execution_count": null,
      "outputs": []
    },
    {
      "cell_type": "code",
      "metadata": {
        "id": "8N_taoIJGonw"
      },
      "source": [
        "# choose an optimizer and its hyperparameters\r\n",
        "# you can experiment with different choices here and see how it affects the training\r\n",
        "# 5 minutes - can revisit this \r\n",
        "\r\n",
        "optimizer = None"
      ],
      "execution_count": null,
      "outputs": []
    },
    {
      "cell_type": "markdown",
      "metadata": {
        "id": "zYm4ORBv_55Z"
      },
      "source": [
        "## Training"
      ]
    },
    {
      "cell_type": "code",
      "metadata": {
        "id": "rkoDsrPlE8Yn"
      },
      "source": [
        "# create a training function which takes in the pieces you just created\n",
        "# and runs one epoch  (recall the definition of an epoch)\n",
        "# 15 minutes\n",
        "\n",
        "def train_one_epoch(model, train_loader, optimizer, criterion, device):\n",
        "\n",
        "\n",
        "    # what is the first thing to do before starting training?\n",
        "\n",
        "\n",
        "\n",
        "    for batch_inputs, batch_labels in train_loader:\n",
        "        batch_inputs, batch_labels = batch_inputs.to(device), batch_labels.to(device)\n",
        "\n",
        "\n",
        "\n",
        "\n",
        "        # main body of your training\n",
        "\n",
        "\n",
        "\n",
        "\n",
        "\n",
        "\n",
        "\n",
        "    print('End of epoch loss:', round(loss.item(), 3))"
      ],
      "execution_count": null,
      "outputs": []
    },
    {
      "cell_type": "markdown",
      "metadata": {
        "id": "aIoH_wvs_99m"
      },
      "source": [
        "## Testing"
      ]
    },
    {
      "cell_type": "code",
      "metadata": {
        "id": "wZ-8l76AE90s"
      },
      "source": [
        "# 10 minutes\n",
        "# function to test the model\n",
        "\n",
        "def test(model, test_loader, device):\n",
        "    # we've manually specified the classes - these are from the cifar-10 dataset\n",
        "    classes = ['plane', 'car', 'bird', 'cat', 'deer', 'dog', 'frog', 'horse', 'ship', 'truck']\n",
        "\n",
        "\n",
        "    # what is the first thing to do before testing?\n",
        "    \n",
        "\n",
        "    correct = 0\n",
        "\n",
        "    for batch_inputs, batch_labels in test_loader:\n",
        "        batch_inputs, batch_labels = batch_inputs.to(device), batch_labels.to(device)\n",
        "       \n",
        "       \n",
        "       \n",
        "       \n",
        "       \n",
        "       \n",
        "       \n",
        "        # main body of testing function\n",
        "\n",
        "\n",
        "\n",
        "\n",
        "\n",
        "\n",
        "        predictions = None\n",
        "        correct += None\n",
        "        \n",
        "    print('End of epoch accuracy:', 100*correct/len(test_dataset), '%')\n",
        "    \n",
        "\n",
        "    # visualizing the current model's performance - no changes required\n",
        "    for i in range(4):\n",
        "        print('Guess:', classes[predictions[i]], '| Label:', classes[batch_labels[i]])\n",
        "        plt.imshow(batch_inputs[i].cpu().permute(1,2,0))\n",
        "        plt.show()"
      ],
      "execution_count": null,
      "outputs": []
    },
    {
      "cell_type": "markdown",
      "metadata": {
        "id": "ca3DXD-QAByf"
      },
      "source": [
        "# Running the train-test loop"
      ]
    },
    {
      "cell_type": "code",
      "metadata": {
        "id": "t-RfdZaDE_sy"
      },
      "source": [
        "# run a loop which calls the training and testing functions\n",
        "# you just created\n",
        "# 5 minutes to code [ and however long to train :) ]\n",
        "\n",
        "\n",
        "\n",
        "\n",
        "\n",
        "\n"
      ],
      "execution_count": null,
      "outputs": []
    },
    {
      "cell_type": "markdown",
      "metadata": {
        "id": "AtL0ZIFRAzxQ"
      },
      "source": [
        "## Saving the weights"
      ]
    },
    {
      "cell_type": "code",
      "metadata": {
        "id": "lZdq7e-2I7qr"
      },
      "source": [
        "# save the weights of your model\r\n",
        "\r\n",
        "\r\n"
      ],
      "execution_count": null,
      "outputs": []
    },
    {
      "cell_type": "markdown",
      "metadata": {
        "id": "8RgnJ-Z1A2zh"
      },
      "source": [
        "## Loading the weights"
      ]
    },
    {
      "cell_type": "code",
      "metadata": {
        "id": "HIvzBWIENNvR"
      },
      "source": [
        "# power outage!\r\n",
        "# you've lost all your weights.\r\n",
        "# or have you?\r\n",
        "# reload the weights you just (hopefully) saved\r\n",
        "\r\n",
        "\r\n",
        "\r\n",
        "\r\n",
        "\r\n",
        "\r\n",
        "\r\n",
        "\r\n"
      ],
      "execution_count": null,
      "outputs": []
    },
    {
      "cell_type": "code",
      "metadata": {
        "id": "G5Nh4-dpm3KM"
      },
      "source": [
        "# testing what the correct dimensions should be\n",
        "m = nn.Sequential(\n",
        "    nn.Conv2d(3, 6, 5, stride=1, padding=2),\n",
        "    nn.MaxPool2d(kernel_size=2, stride=2),\n",
        "    nn.Conv2d(6, 16, 5, stride=1, padding=2),\n",
        "    nn.MaxPool2d(kernel_size=2, stride=2),\n",
        "    nn.Flatten()\n",
        ")"
      ],
      "execution_count": 18,
      "outputs": []
    },
    {
      "cell_type": "code",
      "metadata": {
        "colab": {
          "base_uri": "https://localhost:8080/"
        },
        "id": "ROYa45KQm8J7",
        "outputId": "4e8ded7a-be31-40d7-cb1f-0b2859e3c15b"
      },
      "source": [
        "input = torch.randn(16, 3, 32, 32)\n",
        "output = m(input)\n",
        "output.size()"
      ],
      "execution_count": 19,
      "outputs": [
        {
          "output_type": "execute_result",
          "data": {
            "text/plain": [
              "torch.Size([16, 1024])"
            ]
          },
          "metadata": {
            "tags": []
          },
          "execution_count": 19
        }
      ]
    },
    {
      "cell_type": "code",
      "metadata": {
        "id": "y3mHVjYrnEbe"
      },
      "source": [
        ""
      ],
      "execution_count": null,
      "outputs": []
    }
  ]
}
