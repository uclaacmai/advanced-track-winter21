{
  "nbformat": 4,
  "nbformat_minor": 0,
  "metadata": {
    "colab": {
      "name": "skeleton_guided_project.ipynb",
      "provenance": [],
      "collapsed_sections": []
    },
    "kernelspec": {
      "name": "python3",
      "display_name": "Python 3"
    },
    "accelerator": "GPU"
  },
  "cells": [
    {
      "cell_type": "markdown",
      "metadata": {
        "id": "7COyn-xqCC0g"
      },
      "source": [
        "# **Training a CNN to classify the CIFAR-10 dataset**\r\n",
        "Adapted from pytorch.org/tutorials : \"Training a Classifier\"\r\n"
      ]
    },
    {
      "cell_type": "code",
      "metadata": {
        "id": "uEjNBZQQCWN1"
      },
      "source": [
        "# libraries we need\r\n",
        "import torch\r\n",
        "import numpy as np\r\n",
        "import matplotlib.pyplot as plt\r\n",
        "import torchvision\r\n",
        "import torch.nn as nn\r\n",
        "import torch.nn.functional as F"
      ],
      "execution_count": null,
      "outputs": []
    },
    {
      "cell_type": "code",
      "metadata": {
        "id": "dHOI5nFyEscP"
      },
      "source": [
        "# the whole point of pytorch is to be able to easily train models on GPU's and TPU's\n",
        "# if you have a dedicated GPU, you can download CUDA from Nvidia toolkits\n",
        "# this snippet of code will check if you have cuda installed, and will set the 'device' accordingly\n",
        "# for now, it should probably return \"Running on CPU\"\n",
        "\n",
        "\n",
        "if torch.cuda.is_available():\n",
        "    device = torch.device('cuda:0')\n",
        "    print('Running on GPU')\n",
        "    print(torch.cuda.get_device_name(0))\n",
        "else:\n",
        "    device = torch.device('cpu')\n",
        "    print('Running on CPU')"
      ],
      "execution_count": null,
      "outputs": []
    },
    {
      "cell_type": "markdown",
      "metadata": {
        "id": "HP5cImkf_sLT"
      },
      "source": [
        "## Data processing"
      ]
    },
    {
      "cell_type": "code",
      "metadata": {
        "id": "ZEX9a59QE2Y9"
      },
      "source": [
        "# load the CIFAR 10 training and testing data sets from torchvision.datasets - 10 minutes\n",
        "\n",
        "train_dataset = None\n",
        "test_dataset = None"
      ],
      "execution_count": null,
      "outputs": []
    },
    {
      "cell_type": "code",
      "metadata": {
        "id": "t_lcQjTYE4GO"
      },
      "source": [
        "# create training and testing loaders\n",
        "# Hint: this bit of code will be similar to what we wrote last workshop\n",
        "# experiment with batch sizes, other hyperparams\n",
        "# 10 minutes \n",
        "\n",
        "train_loader = None\n",
        "test_loader = None"
      ],
      "execution_count": null,
      "outputs": []
    },
    {
      "cell_type": "code",
      "metadata": {
        "id": "tqIIVu0iEuZo"
      },
      "source": [
        "# visualizing a sample\r\n",
        "# replace \"None\" with an iterator constructed from your train loader and run the cell\r\n",
        "# to visualize a sample in the set\r\n",
        "# 2 min\r\n",
        "\r\n",
        "train_iter = None # convert your train loader to an iterator\r\n",
        "\r\n",
        "batch_images, batch_labels = next(train_iter)\r\n",
        "image, label = batch_images[0], batch_labels[0]\r\n",
        "plt.imshow(image.permute(1,2,0))\r\n",
        "plt.show()"
      ],
      "execution_count": null,
      "outputs": []
    },
    {
      "cell_type": "markdown",
      "metadata": {
        "id": "tYB1MDAx_171"
      },
      "source": [
        "## Building the model"
      ]
    },
    {
      "cell_type": "markdown",
      "metadata": {
        "id": "xuZ3UvW2FKYJ"
      },
      "source": [
        "Remember, that CNN's have a typical architecture that involve CONV -> Maxpool -> .... -> FC -> ... Output \r\n",
        "\r\n",
        "https://pytorch.org/docs/stable/index.html"
      ]
    },
    {
      "cell_type": "code",
      "metadata": {
        "id": "MQmhlPR4E5bt"
      },
      "source": [
        "# construct your CNN model\n",
        "# we've provided the basic structure of the class you need to implement\n",
        "# replace all the 'None' statements and add in the architecture of your CNN\n",
        "# 20 minutes\n",
        "class CNN(None):\n",
        "\n",
        "    def __init__(None):\n",
        "        super(None).__init__()\n",
        "        pass\n",
        "        \n",
        "    def forward(None):\n",
        "        return None"
      ],
      "execution_count": null,
      "outputs": []
    },
    {
      "cell_type": "code",
      "metadata": {
        "id": "9QGZYj5yE7A0"
      },
      "source": [
        "# create an instance of your class\n",
        "# 2 minutes\n",
        "model = None\n",
        "\n",
        "model.to(device) # specify that this model will be stored on the device you chose earlier (GPU or CPU)"
      ],
      "execution_count": null,
      "outputs": []
    },
    {
      "cell_type": "code",
      "metadata": {
        "id": "miyUpMgDGfIP"
      },
      "source": [
        "# choose your loss function. \r\n",
        "# Hint: since we're doing classification, what is a good choice for the loss function?\r\n",
        "# 3 minutes\r\n",
        "criterion = None"
      ],
      "execution_count": null,
      "outputs": []
    },
    {
      "cell_type": "code",
      "metadata": {
        "id": "8N_taoIJGonw"
      },
      "source": [
        "# choose an optimizer and its hyperparameters\r\n",
        "# you can experiment with different choices here and see how it affects the training\r\n",
        "# 5 minutes - can revisit this \r\n",
        "\r\n",
        "optimizer = None"
      ],
      "execution_count": null,
      "outputs": []
    },
    {
      "cell_type": "markdown",
      "metadata": {
        "id": "zYm4ORBv_55Z"
      },
      "source": [
        "## Training"
      ]
    },
    {
      "cell_type": "code",
      "metadata": {
        "id": "rkoDsrPlE8Yn"
      },
      "source": [
        "# create a training function which takes in the pieces you just created\n",
        "# and runs one epoch  (recall the definition of an epoch)\n",
        "# 15 minutes\n",
        "\n",
        "def train_one_epoch(model, train_loader, optimizer, criterion, device):\n",
        "\n",
        "\n",
        "    # what is the first thing to do before starting training?\n",
        "\n",
        "\n",
        "\n",
        "    for batch_inputs, batch_labels in train_loader:\n",
        "        batch_inputs, batch_labels = batch_inputs.to(device), batch_labels.to(device)\n",
        "\n",
        "\n",
        "\n",
        "\n",
        "        # main body of your training\n",
        "\n",
        "\n",
        "\n",
        "\n",
        "\n",
        "\n",
        "\n",
        "    print('End of epoch loss:', round(loss.item(), 3))"
      ],
      "execution_count": null,
      "outputs": []
    },
    {
      "cell_type": "markdown",
      "metadata": {
        "id": "aIoH_wvs_99m"
      },
      "source": [
        "## Testing"
      ]
    },
    {
      "cell_type": "code",
      "metadata": {
        "id": "wZ-8l76AE90s"
      },
      "source": [
        "# 10 minutes\n",
        "# function to test the model\n",
        "\n",
        "def test(model, test_loader, device):\n",
        "    # we've manually specified the classes - these are from the cifar-10 dataset\n",
        "    classes = ['plane', 'car', 'bird', 'cat', 'deer', 'dog', 'frog', 'horse', 'ship', 'truck']\n",
        "\n",
        "\n",
        "    # what is the first thing to do before testing?\n",
        "    \n",
        "\n",
        "    correct = 0\n",
        "\n",
        "    for batch_inputs, batch_labels in test_loader:\n",
        "        batch_inputs, batch_labels = batch_inputs.to(device), batch_labels.to(device)\n",
        "       \n",
        "       \n",
        "       \n",
        "       \n",
        "       \n",
        "       \n",
        "       \n",
        "        # main body of testing function\n",
        "\n",
        "\n",
        "\n",
        "\n",
        "\n",
        "\n",
        "        predictions = None\n",
        "        correct += None\n",
        "        \n",
        "    print('End of epoch accuracy:', 100*correct/len(test_dataset), '%')\n",
        "    \n",
        "\n",
        "    # visualizing the current model's performance - no changes required\n",
        "    for i in range(4):\n",
        "        print('Guess:', classes[predictions[i]], '| Label:', classes[batch_labels[i]])\n",
        "        plt.imshow(batch_inputs[i].cpu().permute(1,2,0))\n",
        "        plt.show()"
      ],
      "execution_count": null,
      "outputs": []
    },
    {
      "cell_type": "markdown",
      "metadata": {
        "id": "ca3DXD-QAByf"
      },
      "source": [
        "# Running the train-test loop"
      ]
    },
    {
      "cell_type": "code",
      "metadata": {
        "id": "t-RfdZaDE_sy"
      },
      "source": [
        "# run a loop which calls the training and testing functions\n",
        "# you just created\n",
        "# 5 minutes to code [ and however long to train :) ]\n",
        "\n",
        "\n",
        "\n",
        "\n",
        "\n",
        "\n"
      ],
      "execution_count": null,
      "outputs": []
    },
    {
      "cell_type": "markdown",
      "metadata": {
        "id": "AtL0ZIFRAzxQ"
      },
      "source": [
        "## Saving the weights"
      ]
    },
    {
      "cell_type": "code",
      "metadata": {
        "id": "lZdq7e-2I7qr"
      },
      "source": [
        "# save the weights of your model\r\n",
        "\r\n",
        "\r\n"
      ],
      "execution_count": null,
      "outputs": []
    },
    {
      "cell_type": "markdown",
      "metadata": {
        "id": "8RgnJ-Z1A2zh"
      },
      "source": [
        "## Loading the weights"
      ]
    },
    {
      "cell_type": "code",
      "metadata": {
        "id": "HIvzBWIENNvR"
      },
      "source": [
        "# power outage!\r\n",
        "# you've lost all your weights.\r\n",
        "# or have you?\r\n",
        "# reload the weights you just (hopefully) saved\r\n",
        "\r\n",
        "\r\n",
        "\r\n",
        "\r\n",
        "\r\n",
        "\r\n",
        "\r\n",
        "\r\n"
      ],
      "execution_count": null,
      "outputs": []
    }
  ]
}