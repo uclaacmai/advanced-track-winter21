{
  "nbformat": 4,
  "nbformat_minor": 5,
  "metadata": {
    "kernelspec": {
      "display_name": "Python 3",
      "language": "python",
      "name": "python3"
    },
    "language_info": {
      "codemirror_mode": {
        "name": "ipython",
        "version": 3
      },
      "file_extension": ".py",
      "mimetype": "text/x-python",
      "name": "python",
      "nbconvert_exporter": "python",
      "pygments_lexer": "ipython3",
      "version": "3.8.5"
    },
    "colab": {
      "name": "Adv Track - model implementation - Live.ipynb",
      "provenance": [],
      "collapsed_sections": []
    },
    "widgets": {
      "application/vnd.jupyter.widget-state+json": {
        "2dbc1ddc4c7e43b6bd6539d4dfe8fa13": {
          "model_module": "@jupyter-widgets/controls",
          "model_name": "HBoxModel",
          "state": {
            "_view_name": "HBoxView",
            "_dom_classes": [],
            "_model_name": "HBoxModel",
            "_view_module": "@jupyter-widgets/controls",
            "_model_module_version": "1.5.0",
            "_view_count": null,
            "_view_module_version": "1.5.0",
            "box_style": "",
            "layout": "IPY_MODEL_b301011a33f643268c354e2b3923b14f",
            "_model_module": "@jupyter-widgets/controls",
            "children": [
              "IPY_MODEL_fa00996919324763b2cdc1859dea5849",
              "IPY_MODEL_e62423b26de0469cbb0658425e7d134f"
            ]
          }
        },
        "b301011a33f643268c354e2b3923b14f": {
          "model_module": "@jupyter-widgets/base",
          "model_name": "LayoutModel",
          "state": {
            "_view_name": "LayoutView",
            "grid_template_rows": null,
            "right": null,
            "justify_content": null,
            "_view_module": "@jupyter-widgets/base",
            "overflow": null,
            "_model_module_version": "1.2.0",
            "_view_count": null,
            "flex_flow": null,
            "width": null,
            "min_width": null,
            "border": null,
            "align_items": null,
            "bottom": null,
            "_model_module": "@jupyter-widgets/base",
            "top": null,
            "grid_column": null,
            "overflow_y": null,
            "overflow_x": null,
            "grid_auto_flow": null,
            "grid_area": null,
            "grid_template_columns": null,
            "flex": null,
            "_model_name": "LayoutModel",
            "justify_items": null,
            "grid_row": null,
            "max_height": null,
            "align_content": null,
            "visibility": null,
            "align_self": null,
            "height": null,
            "min_height": null,
            "padding": null,
            "grid_auto_rows": null,
            "grid_gap": null,
            "max_width": null,
            "order": null,
            "_view_module_version": "1.2.0",
            "grid_template_areas": null,
            "object_position": null,
            "object_fit": null,
            "grid_auto_columns": null,
            "margin": null,
            "display": null,
            "left": null
          }
        },
        "fa00996919324763b2cdc1859dea5849": {
          "model_module": "@jupyter-widgets/controls",
          "model_name": "FloatProgressModel",
          "state": {
            "_view_name": "ProgressView",
            "style": "IPY_MODEL_f5b5ceb6a4a7492883bc86acd89b364e",
            "_dom_classes": [],
            "description": "",
            "_model_name": "FloatProgressModel",
            "bar_style": "success",
            "max": 1,
            "_view_module": "@jupyter-widgets/controls",
            "_model_module_version": "1.5.0",
            "value": 1,
            "_view_count": null,
            "_view_module_version": "1.5.0",
            "orientation": "horizontal",
            "min": 0,
            "description_tooltip": null,
            "_model_module": "@jupyter-widgets/controls",
            "layout": "IPY_MODEL_ae908639b2714dc9a38f95f72ecff960"
          }
        },
        "e62423b26de0469cbb0658425e7d134f": {
          "model_module": "@jupyter-widgets/controls",
          "model_name": "HTMLModel",
          "state": {
            "_view_name": "HTMLView",
            "style": "IPY_MODEL_dbdad1c11aa94b0b9c75811d07ea4ca5",
            "_dom_classes": [],
            "description": "",
            "_model_name": "HTMLModel",
            "placeholder": "​",
            "_view_module": "@jupyter-widgets/controls",
            "_model_module_version": "1.5.0",
            "value": " 9920512/? [00:03&lt;00:00, 2888055.36it/s]",
            "_view_count": null,
            "_view_module_version": "1.5.0",
            "description_tooltip": null,
            "_model_module": "@jupyter-widgets/controls",
            "layout": "IPY_MODEL_06b11af54709494da89ce916862ab589"
          }
        },
        "f5b5ceb6a4a7492883bc86acd89b364e": {
          "model_module": "@jupyter-widgets/controls",
          "model_name": "ProgressStyleModel",
          "state": {
            "_view_name": "StyleView",
            "_model_name": "ProgressStyleModel",
            "description_width": "initial",
            "_view_module": "@jupyter-widgets/base",
            "_model_module_version": "1.5.0",
            "_view_count": null,
            "_view_module_version": "1.2.0",
            "bar_color": null,
            "_model_module": "@jupyter-widgets/controls"
          }
        },
        "ae908639b2714dc9a38f95f72ecff960": {
          "model_module": "@jupyter-widgets/base",
          "model_name": "LayoutModel",
          "state": {
            "_view_name": "LayoutView",
            "grid_template_rows": null,
            "right": null,
            "justify_content": null,
            "_view_module": "@jupyter-widgets/base",
            "overflow": null,
            "_model_module_version": "1.2.0",
            "_view_count": null,
            "flex_flow": null,
            "width": null,
            "min_width": null,
            "border": null,
            "align_items": null,
            "bottom": null,
            "_model_module": "@jupyter-widgets/base",
            "top": null,
            "grid_column": null,
            "overflow_y": null,
            "overflow_x": null,
            "grid_auto_flow": null,
            "grid_area": null,
            "grid_template_columns": null,
            "flex": null,
            "_model_name": "LayoutModel",
            "justify_items": null,
            "grid_row": null,
            "max_height": null,
            "align_content": null,
            "visibility": null,
            "align_self": null,
            "height": null,
            "min_height": null,
            "padding": null,
            "grid_auto_rows": null,
            "grid_gap": null,
            "max_width": null,
            "order": null,
            "_view_module_version": "1.2.0",
            "grid_template_areas": null,
            "object_position": null,
            "object_fit": null,
            "grid_auto_columns": null,
            "margin": null,
            "display": null,
            "left": null
          }
        },
        "dbdad1c11aa94b0b9c75811d07ea4ca5": {
          "model_module": "@jupyter-widgets/controls",
          "model_name": "DescriptionStyleModel",
          "state": {
            "_view_name": "StyleView",
            "_model_name": "DescriptionStyleModel",
            "description_width": "",
            "_view_module": "@jupyter-widgets/base",
            "_model_module_version": "1.5.0",
            "_view_count": null,
            "_view_module_version": "1.2.0",
            "_model_module": "@jupyter-widgets/controls"
          }
        },
        "06b11af54709494da89ce916862ab589": {
          "model_module": "@jupyter-widgets/base",
          "model_name": "LayoutModel",
          "state": {
            "_view_name": "LayoutView",
            "grid_template_rows": null,
            "right": null,
            "justify_content": null,
            "_view_module": "@jupyter-widgets/base",
            "overflow": null,
            "_model_module_version": "1.2.0",
            "_view_count": null,
            "flex_flow": null,
            "width": null,
            "min_width": null,
            "border": null,
            "align_items": null,
            "bottom": null,
            "_model_module": "@jupyter-widgets/base",
            "top": null,
            "grid_column": null,
            "overflow_y": null,
            "overflow_x": null,
            "grid_auto_flow": null,
            "grid_area": null,
            "grid_template_columns": null,
            "flex": null,
            "_model_name": "LayoutModel",
            "justify_items": null,
            "grid_row": null,
            "max_height": null,
            "align_content": null,
            "visibility": null,
            "align_self": null,
            "height": null,
            "min_height": null,
            "padding": null,
            "grid_auto_rows": null,
            "grid_gap": null,
            "max_width": null,
            "order": null,
            "_view_module_version": "1.2.0",
            "grid_template_areas": null,
            "object_position": null,
            "object_fit": null,
            "grid_auto_columns": null,
            "margin": null,
            "display": null,
            "left": null
          }
        },
        "a9f0c2af589c4f0f9c1e0b48494031a0": {
          "model_module": "@jupyter-widgets/controls",
          "model_name": "HBoxModel",
          "state": {
            "_view_name": "HBoxView",
            "_dom_classes": [],
            "_model_name": "HBoxModel",
            "_view_module": "@jupyter-widgets/controls",
            "_model_module_version": "1.5.0",
            "_view_count": null,
            "_view_module_version": "1.5.0",
            "box_style": "",
            "layout": "IPY_MODEL_dc29342a17184a879bc3fb451724ce72",
            "_model_module": "@jupyter-widgets/controls",
            "children": [
              "IPY_MODEL_7fa4bc78527646ddadbaaf8d4627356c",
              "IPY_MODEL_7db1400a775a4c41ba2c6a8d3f2e2529"
            ]
          }
        },
        "dc29342a17184a879bc3fb451724ce72": {
          "model_module": "@jupyter-widgets/base",
          "model_name": "LayoutModel",
          "state": {
            "_view_name": "LayoutView",
            "grid_template_rows": null,
            "right": null,
            "justify_content": null,
            "_view_module": "@jupyter-widgets/base",
            "overflow": null,
            "_model_module_version": "1.2.0",
            "_view_count": null,
            "flex_flow": null,
            "width": null,
            "min_width": null,
            "border": null,
            "align_items": null,
            "bottom": null,
            "_model_module": "@jupyter-widgets/base",
            "top": null,
            "grid_column": null,
            "overflow_y": null,
            "overflow_x": null,
            "grid_auto_flow": null,
            "grid_area": null,
            "grid_template_columns": null,
            "flex": null,
            "_model_name": "LayoutModel",
            "justify_items": null,
            "grid_row": null,
            "max_height": null,
            "align_content": null,
            "visibility": null,
            "align_self": null,
            "height": null,
            "min_height": null,
            "padding": null,
            "grid_auto_rows": null,
            "grid_gap": null,
            "max_width": null,
            "order": null,
            "_view_module_version": "1.2.0",
            "grid_template_areas": null,
            "object_position": null,
            "object_fit": null,
            "grid_auto_columns": null,
            "margin": null,
            "display": null,
            "left": null
          }
        },
        "7fa4bc78527646ddadbaaf8d4627356c": {
          "model_module": "@jupyter-widgets/controls",
          "model_name": "FloatProgressModel",
          "state": {
            "_view_name": "ProgressView",
            "style": "IPY_MODEL_67a2f80f4c16476c9f29bb66b3212707",
            "_dom_classes": [],
            "description": "",
            "_model_name": "FloatProgressModel",
            "bar_style": "success",
            "max": 1,
            "_view_module": "@jupyter-widgets/controls",
            "_model_module_version": "1.5.0",
            "value": 1,
            "_view_count": null,
            "_view_module_version": "1.5.0",
            "orientation": "horizontal",
            "min": 0,
            "description_tooltip": null,
            "_model_module": "@jupyter-widgets/controls",
            "layout": "IPY_MODEL_b8f9be29b6074c21826d4cef49976442"
          }
        },
        "7db1400a775a4c41ba2c6a8d3f2e2529": {
          "model_module": "@jupyter-widgets/controls",
          "model_name": "HTMLModel",
          "state": {
            "_view_name": "HTMLView",
            "style": "IPY_MODEL_280651c172644a0b961f236202d3a3c0",
            "_dom_classes": [],
            "description": "",
            "_model_name": "HTMLModel",
            "placeholder": "​",
            "_view_module": "@jupyter-widgets/controls",
            "_model_module_version": "1.5.0",
            "value": " 32768/? [00:01&lt;00:00, 30597.28it/s]",
            "_view_count": null,
            "_view_module_version": "1.5.0",
            "description_tooltip": null,
            "_model_module": "@jupyter-widgets/controls",
            "layout": "IPY_MODEL_551e9849baaa4ddb9862eb47f1127f39"
          }
        },
        "67a2f80f4c16476c9f29bb66b3212707": {
          "model_module": "@jupyter-widgets/controls",
          "model_name": "ProgressStyleModel",
          "state": {
            "_view_name": "StyleView",
            "_model_name": "ProgressStyleModel",
            "description_width": "initial",
            "_view_module": "@jupyter-widgets/base",
            "_model_module_version": "1.5.0",
            "_view_count": null,
            "_view_module_version": "1.2.0",
            "bar_color": null,
            "_model_module": "@jupyter-widgets/controls"
          }
        },
        "b8f9be29b6074c21826d4cef49976442": {
          "model_module": "@jupyter-widgets/base",
          "model_name": "LayoutModel",
          "state": {
            "_view_name": "LayoutView",
            "grid_template_rows": null,
            "right": null,
            "justify_content": null,
            "_view_module": "@jupyter-widgets/base",
            "overflow": null,
            "_model_module_version": "1.2.0",
            "_view_count": null,
            "flex_flow": null,
            "width": null,
            "min_width": null,
            "border": null,
            "align_items": null,
            "bottom": null,
            "_model_module": "@jupyter-widgets/base",
            "top": null,
            "grid_column": null,
            "overflow_y": null,
            "overflow_x": null,
            "grid_auto_flow": null,
            "grid_area": null,
            "grid_template_columns": null,
            "flex": null,
            "_model_name": "LayoutModel",
            "justify_items": null,
            "grid_row": null,
            "max_height": null,
            "align_content": null,
            "visibility": null,
            "align_self": null,
            "height": null,
            "min_height": null,
            "padding": null,
            "grid_auto_rows": null,
            "grid_gap": null,
            "max_width": null,
            "order": null,
            "_view_module_version": "1.2.0",
            "grid_template_areas": null,
            "object_position": null,
            "object_fit": null,
            "grid_auto_columns": null,
            "margin": null,
            "display": null,
            "left": null
          }
        },
        "280651c172644a0b961f236202d3a3c0": {
          "model_module": "@jupyter-widgets/controls",
          "model_name": "DescriptionStyleModel",
          "state": {
            "_view_name": "StyleView",
            "_model_name": "DescriptionStyleModel",
            "description_width": "",
            "_view_module": "@jupyter-widgets/base",
            "_model_module_version": "1.5.0",
            "_view_count": null,
            "_view_module_version": "1.2.0",
            "_model_module": "@jupyter-widgets/controls"
          }
        },
        "551e9849baaa4ddb9862eb47f1127f39": {
          "model_module": "@jupyter-widgets/base",
          "model_name": "LayoutModel",
          "state": {
            "_view_name": "LayoutView",
            "grid_template_rows": null,
            "right": null,
            "justify_content": null,
            "_view_module": "@jupyter-widgets/base",
            "overflow": null,
            "_model_module_version": "1.2.0",
            "_view_count": null,
            "flex_flow": null,
            "width": null,
            "min_width": null,
            "border": null,
            "align_items": null,
            "bottom": null,
            "_model_module": "@jupyter-widgets/base",
            "top": null,
            "grid_column": null,
            "overflow_y": null,
            "overflow_x": null,
            "grid_auto_flow": null,
            "grid_area": null,
            "grid_template_columns": null,
            "flex": null,
            "_model_name": "LayoutModel",
            "justify_items": null,
            "grid_row": null,
            "max_height": null,
            "align_content": null,
            "visibility": null,
            "align_self": null,
            "height": null,
            "min_height": null,
            "padding": null,
            "grid_auto_rows": null,
            "grid_gap": null,
            "max_width": null,
            "order": null,
            "_view_module_version": "1.2.0",
            "grid_template_areas": null,
            "object_position": null,
            "object_fit": null,
            "grid_auto_columns": null,
            "margin": null,
            "display": null,
            "left": null
          }
        },
        "1534a38af18143f2affc5bc7cec24228": {
          "model_module": "@jupyter-widgets/controls",
          "model_name": "HBoxModel",
          "state": {
            "_view_name": "HBoxView",
            "_dom_classes": [],
            "_model_name": "HBoxModel",
            "_view_module": "@jupyter-widgets/controls",
            "_model_module_version": "1.5.0",
            "_view_count": null,
            "_view_module_version": "1.5.0",
            "box_style": "",
            "layout": "IPY_MODEL_1572a3d00b324b3a9ba2b14a50618812",
            "_model_module": "@jupyter-widgets/controls",
            "children": [
              "IPY_MODEL_466751ddc0e849f99effbf9562667090",
              "IPY_MODEL_3426bdcbf87c45da97ce9b8b7bab7d7e"
            ]
          }
        },
        "1572a3d00b324b3a9ba2b14a50618812": {
          "model_module": "@jupyter-widgets/base",
          "model_name": "LayoutModel",
          "state": {
            "_view_name": "LayoutView",
            "grid_template_rows": null,
            "right": null,
            "justify_content": null,
            "_view_module": "@jupyter-widgets/base",
            "overflow": null,
            "_model_module_version": "1.2.0",
            "_view_count": null,
            "flex_flow": null,
            "width": null,
            "min_width": null,
            "border": null,
            "align_items": null,
            "bottom": null,
            "_model_module": "@jupyter-widgets/base",
            "top": null,
            "grid_column": null,
            "overflow_y": null,
            "overflow_x": null,
            "grid_auto_flow": null,
            "grid_area": null,
            "grid_template_columns": null,
            "flex": null,
            "_model_name": "LayoutModel",
            "justify_items": null,
            "grid_row": null,
            "max_height": null,
            "align_content": null,
            "visibility": null,
            "align_self": null,
            "height": null,
            "min_height": null,
            "padding": null,
            "grid_auto_rows": null,
            "grid_gap": null,
            "max_width": null,
            "order": null,
            "_view_module_version": "1.2.0",
            "grid_template_areas": null,
            "object_position": null,
            "object_fit": null,
            "grid_auto_columns": null,
            "margin": null,
            "display": null,
            "left": null
          }
        },
        "466751ddc0e849f99effbf9562667090": {
          "model_module": "@jupyter-widgets/controls",
          "model_name": "FloatProgressModel",
          "state": {
            "_view_name": "ProgressView",
            "style": "IPY_MODEL_5c6c12c07e564847a59d32cf4d254224",
            "_dom_classes": [],
            "description": "",
            "_model_name": "FloatProgressModel",
            "bar_style": "success",
            "max": 1,
            "_view_module": "@jupyter-widgets/controls",
            "_model_module_version": "1.5.0",
            "value": 1,
            "_view_count": null,
            "_view_module_version": "1.5.0",
            "orientation": "horizontal",
            "min": 0,
            "description_tooltip": null,
            "_model_module": "@jupyter-widgets/controls",
            "layout": "IPY_MODEL_c22b649ac15d44fab90dce4dc5082dfc"
          }
        },
        "3426bdcbf87c45da97ce9b8b7bab7d7e": {
          "model_module": "@jupyter-widgets/controls",
          "model_name": "HTMLModel",
          "state": {
            "_view_name": "HTMLView",
            "style": "IPY_MODEL_da21302bbe17486d8c6e2d86c8c3fee9",
            "_dom_classes": [],
            "description": "",
            "_model_name": "HTMLModel",
            "placeholder": "​",
            "_view_module": "@jupyter-widgets/controls",
            "_model_module_version": "1.5.0",
            "value": " 1654784/? [00:00&lt;00:00, 2097238.18it/s]",
            "_view_count": null,
            "_view_module_version": "1.5.0",
            "description_tooltip": null,
            "_model_module": "@jupyter-widgets/controls",
            "layout": "IPY_MODEL_bdbef043f6464faa800c4735be7cda30"
          }
        },
        "5c6c12c07e564847a59d32cf4d254224": {
          "model_module": "@jupyter-widgets/controls",
          "model_name": "ProgressStyleModel",
          "state": {
            "_view_name": "StyleView",
            "_model_name": "ProgressStyleModel",
            "description_width": "initial",
            "_view_module": "@jupyter-widgets/base",
            "_model_module_version": "1.5.0",
            "_view_count": null,
            "_view_module_version": "1.2.0",
            "bar_color": null,
            "_model_module": "@jupyter-widgets/controls"
          }
        },
        "c22b649ac15d44fab90dce4dc5082dfc": {
          "model_module": "@jupyter-widgets/base",
          "model_name": "LayoutModel",
          "state": {
            "_view_name": "LayoutView",
            "grid_template_rows": null,
            "right": null,
            "justify_content": null,
            "_view_module": "@jupyter-widgets/base",
            "overflow": null,
            "_model_module_version": "1.2.0",
            "_view_count": null,
            "flex_flow": null,
            "width": null,
            "min_width": null,
            "border": null,
            "align_items": null,
            "bottom": null,
            "_model_module": "@jupyter-widgets/base",
            "top": null,
            "grid_column": null,
            "overflow_y": null,
            "overflow_x": null,
            "grid_auto_flow": null,
            "grid_area": null,
            "grid_template_columns": null,
            "flex": null,
            "_model_name": "LayoutModel",
            "justify_items": null,
            "grid_row": null,
            "max_height": null,
            "align_content": null,
            "visibility": null,
            "align_self": null,
            "height": null,
            "min_height": null,
            "padding": null,
            "grid_auto_rows": null,
            "grid_gap": null,
            "max_width": null,
            "order": null,
            "_view_module_version": "1.2.0",
            "grid_template_areas": null,
            "object_position": null,
            "object_fit": null,
            "grid_auto_columns": null,
            "margin": null,
            "display": null,
            "left": null
          }
        },
        "da21302bbe17486d8c6e2d86c8c3fee9": {
          "model_module": "@jupyter-widgets/controls",
          "model_name": "DescriptionStyleModel",
          "state": {
            "_view_name": "StyleView",
            "_model_name": "DescriptionStyleModel",
            "description_width": "",
            "_view_module": "@jupyter-widgets/base",
            "_model_module_version": "1.5.0",
            "_view_count": null,
            "_view_module_version": "1.2.0",
            "_model_module": "@jupyter-widgets/controls"
          }
        },
        "bdbef043f6464faa800c4735be7cda30": {
          "model_module": "@jupyter-widgets/base",
          "model_name": "LayoutModel",
          "state": {
            "_view_name": "LayoutView",
            "grid_template_rows": null,
            "right": null,
            "justify_content": null,
            "_view_module": "@jupyter-widgets/base",
            "overflow": null,
            "_model_module_version": "1.2.0",
            "_view_count": null,
            "flex_flow": null,
            "width": null,
            "min_width": null,
            "border": null,
            "align_items": null,
            "bottom": null,
            "_model_module": "@jupyter-widgets/base",
            "top": null,
            "grid_column": null,
            "overflow_y": null,
            "overflow_x": null,
            "grid_auto_flow": null,
            "grid_area": null,
            "grid_template_columns": null,
            "flex": null,
            "_model_name": "LayoutModel",
            "justify_items": null,
            "grid_row": null,
            "max_height": null,
            "align_content": null,
            "visibility": null,
            "align_self": null,
            "height": null,
            "min_height": null,
            "padding": null,
            "grid_auto_rows": null,
            "grid_gap": null,
            "max_width": null,
            "order": null,
            "_view_module_version": "1.2.0",
            "grid_template_areas": null,
            "object_position": null,
            "object_fit": null,
            "grid_auto_columns": null,
            "margin": null,
            "display": null,
            "left": null
          }
        },
        "47dd5416e94341cbafe8db8f69597f4c": {
          "model_module": "@jupyter-widgets/controls",
          "model_name": "HBoxModel",
          "state": {
            "_view_name": "HBoxView",
            "_dom_classes": [],
            "_model_name": "HBoxModel",
            "_view_module": "@jupyter-widgets/controls",
            "_model_module_version": "1.5.0",
            "_view_count": null,
            "_view_module_version": "1.5.0",
            "box_style": "",
            "layout": "IPY_MODEL_b84419adb5d64e0e89ce65f1e0bc52a8",
            "_model_module": "@jupyter-widgets/controls",
            "children": [
              "IPY_MODEL_76e8b3f7029245ec9d587901be5455c1",
              "IPY_MODEL_e49ff20d2acd4087b3296d077bd81ae0"
            ]
          }
        },
        "b84419adb5d64e0e89ce65f1e0bc52a8": {
          "model_module": "@jupyter-widgets/base",
          "model_name": "LayoutModel",
          "state": {
            "_view_name": "LayoutView",
            "grid_template_rows": null,
            "right": null,
            "justify_content": null,
            "_view_module": "@jupyter-widgets/base",
            "overflow": null,
            "_model_module_version": "1.2.0",
            "_view_count": null,
            "flex_flow": null,
            "width": null,
            "min_width": null,
            "border": null,
            "align_items": null,
            "bottom": null,
            "_model_module": "@jupyter-widgets/base",
            "top": null,
            "grid_column": null,
            "overflow_y": null,
            "overflow_x": null,
            "grid_auto_flow": null,
            "grid_area": null,
            "grid_template_columns": null,
            "flex": null,
            "_model_name": "LayoutModel",
            "justify_items": null,
            "grid_row": null,
            "max_height": null,
            "align_content": null,
            "visibility": null,
            "align_self": null,
            "height": null,
            "min_height": null,
            "padding": null,
            "grid_auto_rows": null,
            "grid_gap": null,
            "max_width": null,
            "order": null,
            "_view_module_version": "1.2.0",
            "grid_template_areas": null,
            "object_position": null,
            "object_fit": null,
            "grid_auto_columns": null,
            "margin": null,
            "display": null,
            "left": null
          }
        },
        "76e8b3f7029245ec9d587901be5455c1": {
          "model_module": "@jupyter-widgets/controls",
          "model_name": "FloatProgressModel",
          "state": {
            "_view_name": "ProgressView",
            "style": "IPY_MODEL_8ef449d7d5c34301ad2aa006e624ff9c",
            "_dom_classes": [],
            "description": "",
            "_model_name": "FloatProgressModel",
            "bar_style": "success",
            "max": 1,
            "_view_module": "@jupyter-widgets/controls",
            "_model_module_version": "1.5.0",
            "value": 1,
            "_view_count": null,
            "_view_module_version": "1.5.0",
            "orientation": "horizontal",
            "min": 0,
            "description_tooltip": null,
            "_model_module": "@jupyter-widgets/controls",
            "layout": "IPY_MODEL_58a3d46a2352487ab18e5dc37a9d9e8a"
          }
        },
        "e49ff20d2acd4087b3296d077bd81ae0": {
          "model_module": "@jupyter-widgets/controls",
          "model_name": "HTMLModel",
          "state": {
            "_view_name": "HTMLView",
            "style": "IPY_MODEL_c48eefe9b12f417e93625a4006110ac8",
            "_dom_classes": [],
            "description": "",
            "_model_name": "HTMLModel",
            "placeholder": "​",
            "_view_module": "@jupyter-widgets/controls",
            "_model_module_version": "1.5.0",
            "value": " 8192/? [00:00&lt;00:00, 12989.18it/s]",
            "_view_count": null,
            "_view_module_version": "1.5.0",
            "description_tooltip": null,
            "_model_module": "@jupyter-widgets/controls",
            "layout": "IPY_MODEL_c18ac7751b4c4bfeb0e7b83e93001d7b"
          }
        },
        "8ef449d7d5c34301ad2aa006e624ff9c": {
          "model_module": "@jupyter-widgets/controls",
          "model_name": "ProgressStyleModel",
          "state": {
            "_view_name": "StyleView",
            "_model_name": "ProgressStyleModel",
            "description_width": "initial",
            "_view_module": "@jupyter-widgets/base",
            "_model_module_version": "1.5.0",
            "_view_count": null,
            "_view_module_version": "1.2.0",
            "bar_color": null,
            "_model_module": "@jupyter-widgets/controls"
          }
        },
        "58a3d46a2352487ab18e5dc37a9d9e8a": {
          "model_module": "@jupyter-widgets/base",
          "model_name": "LayoutModel",
          "state": {
            "_view_name": "LayoutView",
            "grid_template_rows": null,
            "right": null,
            "justify_content": null,
            "_view_module": "@jupyter-widgets/base",
            "overflow": null,
            "_model_module_version": "1.2.0",
            "_view_count": null,
            "flex_flow": null,
            "width": null,
            "min_width": null,
            "border": null,
            "align_items": null,
            "bottom": null,
            "_model_module": "@jupyter-widgets/base",
            "top": null,
            "grid_column": null,
            "overflow_y": null,
            "overflow_x": null,
            "grid_auto_flow": null,
            "grid_area": null,
            "grid_template_columns": null,
            "flex": null,
            "_model_name": "LayoutModel",
            "justify_items": null,
            "grid_row": null,
            "max_height": null,
            "align_content": null,
            "visibility": null,
            "align_self": null,
            "height": null,
            "min_height": null,
            "padding": null,
            "grid_auto_rows": null,
            "grid_gap": null,
            "max_width": null,
            "order": null,
            "_view_module_version": "1.2.0",
            "grid_template_areas": null,
            "object_position": null,
            "object_fit": null,
            "grid_auto_columns": null,
            "margin": null,
            "display": null,
            "left": null
          }
        },
        "c48eefe9b12f417e93625a4006110ac8": {
          "model_module": "@jupyter-widgets/controls",
          "model_name": "DescriptionStyleModel",
          "state": {
            "_view_name": "StyleView",
            "_model_name": "DescriptionStyleModel",
            "description_width": "",
            "_view_module": "@jupyter-widgets/base",
            "_model_module_version": "1.5.0",
            "_view_count": null,
            "_view_module_version": "1.2.0",
            "_model_module": "@jupyter-widgets/controls"
          }
        },
        "c18ac7751b4c4bfeb0e7b83e93001d7b": {
          "model_module": "@jupyter-widgets/base",
          "model_name": "LayoutModel",
          "state": {
            "_view_name": "LayoutView",
            "grid_template_rows": null,
            "right": null,
            "justify_content": null,
            "_view_module": "@jupyter-widgets/base",
            "overflow": null,
            "_model_module_version": "1.2.0",
            "_view_count": null,
            "flex_flow": null,
            "width": null,
            "min_width": null,
            "border": null,
            "align_items": null,
            "bottom": null,
            "_model_module": "@jupyter-widgets/base",
            "top": null,
            "grid_column": null,
            "overflow_y": null,
            "overflow_x": null,
            "grid_auto_flow": null,
            "grid_area": null,
            "grid_template_columns": null,
            "flex": null,
            "_model_name": "LayoutModel",
            "justify_items": null,
            "grid_row": null,
            "max_height": null,
            "align_content": null,
            "visibility": null,
            "align_self": null,
            "height": null,
            "min_height": null,
            "padding": null,
            "grid_auto_rows": null,
            "grid_gap": null,
            "max_width": null,
            "order": null,
            "_view_module_version": "1.2.0",
            "grid_template_areas": null,
            "object_position": null,
            "object_fit": null,
            "grid_auto_columns": null,
            "margin": null,
            "display": null,
            "left": null
          }
        }
      }
    }
  },
  "cells": [
    {
      "cell_type": "markdown",
      "metadata": {
        "id": "descending-hearing"
      },
      "source": [
        "# **Implementing an MNIST classifier in PyTorch**\n",
        "LINK TO FEEDBACK FORM: https://tinyurl.com/w21-atrack6-fb \\\\\n",
        "ATTENDANCE CODE: **curling**\n"
      ],
      "id": "descending-hearing"
    },
    {
      "cell_type": "code",
      "metadata": {
        "id": "ambient-veteran"
      },
      "source": [
        "# importing dependencies \n",
        "import torch\n",
        "import numpy\n",
        "import matplotlib.pyplot as plt\n",
        "import torchvision\n",
        "import torch.nn as nn  \n",
        "import torch.nn.functional as F  "
      ],
      "id": "ambient-veteran",
      "execution_count": null,
      "outputs": []
    },
    {
      "cell_type": "code",
      "metadata": {
        "id": "polish-consciousness",
        "colab": {
          "base_uri": "https://localhost:8080/"
        },
        "outputId": "cc36821c-55e1-4a2b-fd87-3a3aae0386e1"
      },
      "source": [
        "y = torch.tensor([[5.2,2.4],[4.3,3.]])\n",
        "y"
      ],
      "id": "polish-consciousness",
      "execution_count": null,
      "outputs": [
        {
          "output_type": "execute_result",
          "data": {
            "text/plain": [
              "tensor([[5.2000, 2.4000],\n",
              "        [4.3000, 3.0000]])"
            ]
          },
          "metadata": {
            "tags": []
          },
          "execution_count": 2
        }
      ]
    },
    {
      "cell_type": "code",
      "metadata": {
        "id": "ideal-combat",
        "colab": {
          "base_uri": "https://localhost:8080/"
        },
        "outputId": "3d12321c-d61d-4ed5-f36e-2c9285a7675a"
      },
      "source": [
        "z = torch.zeros([5,2,3])\n",
        "z"
      ],
      "id": "ideal-combat",
      "execution_count": null,
      "outputs": [
        {
          "output_type": "execute_result",
          "data": {
            "text/plain": [
              "tensor([[[0., 0., 0.],\n",
              "         [0., 0., 0.]],\n",
              "\n",
              "        [[0., 0., 0.],\n",
              "         [0., 0., 0.]],\n",
              "\n",
              "        [[0., 0., 0.],\n",
              "         [0., 0., 0.]],\n",
              "\n",
              "        [[0., 0., 0.],\n",
              "         [0., 0., 0.]],\n",
              "\n",
              "        [[0., 0., 0.],\n",
              "         [0., 0., 0.]]])"
            ]
          },
          "metadata": {
            "tags": []
          },
          "execution_count": 3
        }
      ]
    },
    {
      "cell_type": "code",
      "metadata": {
        "id": "diverse-counter",
        "colab": {
          "base_uri": "https://localhost:8080/"
        },
        "outputId": "c18721f6-575c-41e3-d3d5-be10b5976c51"
      },
      "source": [
        "o = torch.ones([5,2,3])\n",
        "o"
      ],
      "id": "diverse-counter",
      "execution_count": null,
      "outputs": [
        {
          "output_type": "execute_result",
          "data": {
            "text/plain": [
              "tensor([[[1., 1., 1.],\n",
              "         [1., 1., 1.]],\n",
              "\n",
              "        [[1., 1., 1.],\n",
              "         [1., 1., 1.]],\n",
              "\n",
              "        [[1., 1., 1.],\n",
              "         [1., 1., 1.]],\n",
              "\n",
              "        [[1., 1., 1.],\n",
              "         [1., 1., 1.]],\n",
              "\n",
              "        [[1., 1., 1.],\n",
              "         [1., 1., 1.]]])"
            ]
          },
          "metadata": {
            "tags": []
          },
          "execution_count": 4
        }
      ]
    },
    {
      "cell_type": "code",
      "metadata": {
        "id": "annoying-enclosure",
        "colab": {
          "base_uri": "https://localhost:8080/"
        },
        "outputId": "7bbe3ca1-dd10-4b0d-c781-064fb4c4c706"
      },
      "source": [
        "# entries are random values between 0 and 1\n",
        "r = torch.rand([5,2,3])\n",
        "r"
      ],
      "id": "annoying-enclosure",
      "execution_count": null,
      "outputs": [
        {
          "output_type": "execute_result",
          "data": {
            "text/plain": [
              "tensor([[[0.9033, 0.4313, 0.4361],\n",
              "         [0.4575, 0.0251, 0.9841]],\n",
              "\n",
              "        [[0.0502, 0.2926, 0.8400],\n",
              "         [0.6542, 0.8811, 0.9758]],\n",
              "\n",
              "        [[0.4837, 0.6689, 0.0569],\n",
              "         [0.0625, 0.0052, 0.5953]],\n",
              "\n",
              "        [[0.7462, 0.2445, 0.2380],\n",
              "         [0.0767, 0.8644, 0.4039]],\n",
              "\n",
              "        [[0.8835, 0.5434, 0.2215],\n",
              "         [0.2240, 0.3049, 0.8471]]])"
            ]
          },
          "metadata": {
            "tags": []
          },
          "execution_count": 5
        }
      ]
    },
    {
      "cell_type": "markdown",
      "metadata": {
        "id": "improving-header"
      },
      "source": [
        "# Reshaping Tensors"
      ],
      "id": "improving-header"
    },
    {
      "cell_type": "code",
      "metadata": {
        "id": "bridal-regard",
        "colab": {
          "base_uri": "https://localhost:8080/"
        },
        "outputId": "0fa03af0-81a7-4775-b8b5-74b3ca2682c9"
      },
      "source": [
        "a = torch.tensor([[5,3],[2,7]])\n",
        "a"
      ],
      "id": "bridal-regard",
      "execution_count": null,
      "outputs": [
        {
          "output_type": "execute_result",
          "data": {
            "text/plain": [
              "tensor([[5, 3],\n",
              "        [2, 7]])"
            ]
          },
          "metadata": {
            "tags": []
          },
          "execution_count": 6
        }
      ]
    },
    {
      "cell_type": "code",
      "metadata": {
        "id": "front-knowing",
        "colab": {
          "base_uri": "https://localhost:8080/"
        },
        "outputId": "5b8e0c71-ef9d-469d-99af-3a8bb95c9232"
      },
      "source": [
        "a.size()"
      ],
      "id": "front-knowing",
      "execution_count": null,
      "outputs": [
        {
          "output_type": "execute_result",
          "data": {
            "text/plain": [
              "torch.Size([2, 2])"
            ]
          },
          "metadata": {
            "tags": []
          },
          "execution_count": 7
        }
      ]
    },
    {
      "cell_type": "code",
      "metadata": {
        "id": "desirable-estonia",
        "colab": {
          "base_uri": "https://localhost:8080/"
        },
        "outputId": "aeab0f19-8fc2-488a-bae2-ff4965cf5d40"
      },
      "source": [
        "b = torch.reshape(a, [1,4])\n",
        "b"
      ],
      "id": "desirable-estonia",
      "execution_count": null,
      "outputs": [
        {
          "output_type": "execute_result",
          "data": {
            "text/plain": [
              "tensor([[5, 3, 2, 7]])"
            ]
          },
          "metadata": {
            "tags": []
          },
          "execution_count": 8
        }
      ]
    },
    {
      "cell_type": "code",
      "metadata": {
        "id": "horizontal-parish",
        "colab": {
          "base_uri": "https://localhost:8080/"
        },
        "outputId": "da6c6ea5-42b7-4527-a0aa-3a4c2039f43f"
      },
      "source": [
        "b.size()"
      ],
      "id": "horizontal-parish",
      "execution_count": null,
      "outputs": [
        {
          "output_type": "execute_result",
          "data": {
            "text/plain": [
              "torch.Size([1, 4])"
            ]
          },
          "metadata": {
            "tags": []
          },
          "execution_count": 9
        }
      ]
    },
    {
      "cell_type": "code",
      "metadata": {
        "id": "labeled-poetry",
        "colab": {
          "base_uri": "https://localhost:8080/"
        },
        "outputId": "b0490a4a-b0be-4e97-d9f5-2ad6eb554f60"
      },
      "source": [
        "# flatten\n",
        "c = torch.squeeze(b)\n",
        "c"
      ],
      "id": "labeled-poetry",
      "execution_count": null,
      "outputs": [
        {
          "output_type": "execute_result",
          "data": {
            "text/plain": [
              "tensor([5, 3, 2, 7])"
            ]
          },
          "metadata": {
            "tags": []
          },
          "execution_count": 10
        }
      ]
    },
    {
      "cell_type": "code",
      "metadata": {
        "id": "approved-jamaica",
        "colab": {
          "base_uri": "https://localhost:8080/"
        },
        "outputId": "02af3aaf-a81f-4a71-8310-ce64677eebaa"
      },
      "source": [
        "c.size()"
      ],
      "id": "approved-jamaica",
      "execution_count": null,
      "outputs": [
        {
          "output_type": "execute_result",
          "data": {
            "text/plain": [
              "torch.Size([4])"
            ]
          },
          "metadata": {
            "tags": []
          },
          "execution_count": 11
        }
      ]
    },
    {
      "cell_type": "code",
      "metadata": {
        "id": "demonstrated-mentor",
        "colab": {
          "base_uri": "https://localhost:8080/"
        },
        "outputId": "0f7fd691-2139-4e1c-a7c2-91ccbcd23fa6"
      },
      "source": [
        "d = torch.squeeze(a)\n",
        "d"
      ],
      "id": "demonstrated-mentor",
      "execution_count": null,
      "outputs": [
        {
          "output_type": "execute_result",
          "data": {
            "text/plain": [
              "tensor([[5, 3],\n",
              "        [2, 7]])"
            ]
          },
          "metadata": {
            "tags": []
          },
          "execution_count": 12
        }
      ]
    },
    {
      "cell_type": "code",
      "metadata": {
        "id": "other-indonesia",
        "colab": {
          "base_uri": "https://localhost:8080/"
        },
        "outputId": "5897377b-1205-435d-d367-0a7d6f83c729"
      },
      "source": [
        "d.size()"
      ],
      "id": "other-indonesia",
      "execution_count": null,
      "outputs": [
        {
          "output_type": "execute_result",
          "data": {
            "text/plain": [
              "torch.Size([2, 2])"
            ]
          },
          "metadata": {
            "tags": []
          },
          "execution_count": 13
        }
      ]
    },
    {
      "cell_type": "code",
      "metadata": {
        "id": "pleased-kenya",
        "colab": {
          "base_uri": "https://localhost:8080/"
        },
        "outputId": "73d6843e-1c20-4295-f0ad-27dcadf6b516"
      },
      "source": [
        "e = torch.reshape(a, [4,1])\n",
        "e.size()"
      ],
      "id": "pleased-kenya",
      "execution_count": null,
      "outputs": [
        {
          "output_type": "execute_result",
          "data": {
            "text/plain": [
              "torch.Size([4, 1])"
            ]
          },
          "metadata": {
            "tags": []
          },
          "execution_count": 14
        }
      ]
    },
    {
      "cell_type": "code",
      "metadata": {
        "id": "driven-ethics",
        "colab": {
          "base_uri": "https://localhost:8080/"
        },
        "outputId": "5dd6b151-df6c-4994-e19c-276b740e2f16"
      },
      "source": [
        "# note that f is the same as c\n",
        "f = torch.squeeze(e)\n",
        "f"
      ],
      "id": "driven-ethics",
      "execution_count": null,
      "outputs": [
        {
          "output_type": "execute_result",
          "data": {
            "text/plain": [
              "tensor([5, 3, 2, 7])"
            ]
          },
          "metadata": {
            "tags": []
          },
          "execution_count": 15
        }
      ]
    },
    {
      "cell_type": "markdown",
      "metadata": {
        "id": "leading-hours"
      },
      "source": [
        "# Basic Operations"
      ],
      "id": "leading-hours"
    },
    {
      "cell_type": "code",
      "metadata": {
        "id": "reduced-hygiene",
        "colab": {
          "base_uri": "https://localhost:8080/"
        },
        "outputId": "94a6f190-2aed-4c51-c954-eabff174856b"
      },
      "source": [
        "x = torch.tensor([[2,7],[3,6],[2,5]])\n",
        "x.size()"
      ],
      "id": "reduced-hygiene",
      "execution_count": null,
      "outputs": [
        {
          "output_type": "execute_result",
          "data": {
            "text/plain": [
              "torch.Size([3, 2])"
            ]
          },
          "metadata": {
            "tags": []
          },
          "execution_count": 16
        }
      ]
    },
    {
      "cell_type": "code",
      "metadata": {
        "id": "opposed-quest",
        "colab": {
          "base_uri": "https://localhost:8080/"
        },
        "outputId": "d54e0fd9-cb8e-45d3-abaa-07f201a2a682"
      },
      "source": [
        "y = torch.tensor([[1,5],[4,8],[2,4]])\n",
        "y.size()"
      ],
      "id": "opposed-quest",
      "execution_count": null,
      "outputs": [
        {
          "output_type": "execute_result",
          "data": {
            "text/plain": [
              "torch.Size([3, 2])"
            ]
          },
          "metadata": {
            "tags": []
          },
          "execution_count": 17
        }
      ]
    },
    {
      "cell_type": "code",
      "metadata": {
        "id": "plastic-gallery",
        "colab": {
          "base_uri": "https://localhost:8080/"
        },
        "outputId": "a5779b5b-bafc-4df1-f577-69a16190f519"
      },
      "source": [
        "# addition\n",
        "z = x + y\n",
        "z"
      ],
      "id": "plastic-gallery",
      "execution_count": null,
      "outputs": [
        {
          "output_type": "execute_result",
          "data": {
            "text/plain": [
              "tensor([[ 3, 12],\n",
              "        [ 7, 14],\n",
              "        [ 4,  9]])"
            ]
          },
          "metadata": {
            "tags": []
          },
          "execution_count": 18
        }
      ]
    },
    {
      "cell_type": "code",
      "metadata": {
        "id": "incident-premium",
        "colab": {
          "base_uri": "https://localhost:8080/"
        },
        "outputId": "c035b449-bf50-449e-d0fe-b85577ab8b59"
      },
      "source": [
        "# hadamard product\n",
        "z = x * y\n",
        "z"
      ],
      "id": "incident-premium",
      "execution_count": null,
      "outputs": [
        {
          "output_type": "execute_result",
          "data": {
            "text/plain": [
              "tensor([[ 2, 35],\n",
              "        [12, 48],\n",
              "        [ 4, 20]])"
            ]
          },
          "metadata": {
            "tags": []
          },
          "execution_count": 19
        }
      ]
    },
    {
      "cell_type": "code",
      "metadata": {
        "id": "fresh-october",
        "colab": {
          "base_uri": "https://localhost:8080/"
        },
        "outputId": "f8779ff3-acd4-4a39-ecd6-a10c954b33aa"
      },
      "source": [
        "# redefining y to perform matrix multiplication with x\n",
        "y = torch.tensor([[2,7,2,3,1],[1,5,2,8,0]])\n",
        "y.size()"
      ],
      "id": "fresh-october",
      "execution_count": null,
      "outputs": [
        {
          "output_type": "execute_result",
          "data": {
            "text/plain": [
              "torch.Size([2, 5])"
            ]
          },
          "metadata": {
            "tags": []
          },
          "execution_count": 20
        }
      ]
    },
    {
      "cell_type": "code",
      "metadata": {
        "id": "fifty-reducing",
        "colab": {
          "base_uri": "https://localhost:8080/"
        },
        "outputId": "f4f86a7a-428e-4ee4-d345-1571d2609c88"
      },
      "source": [
        "# matrix multiplication\n",
        "z = torch.matmul(x,y)\n",
        "z"
      ],
      "id": "fifty-reducing",
      "execution_count": null,
      "outputs": [
        {
          "output_type": "execute_result",
          "data": {
            "text/plain": [
              "tensor([[11, 49, 18, 62,  2],\n",
              "        [12, 51, 18, 57,  3],\n",
              "        [ 9, 39, 14, 46,  2]])"
            ]
          },
          "metadata": {
            "tags": []
          },
          "execution_count": 21
        }
      ]
    },
    {
      "cell_type": "code",
      "metadata": {
        "id": "coordinate-football",
        "colab": {
          "base_uri": "https://localhost:8080/"
        },
        "outputId": "9b0c59ee-5606-4b6c-9be5-3af6c35a480c"
      },
      "source": [
        "z.size()"
      ],
      "id": "coordinate-football",
      "execution_count": null,
      "outputs": [
        {
          "output_type": "execute_result",
          "data": {
            "text/plain": [
              "torch.Size([3, 5])"
            ]
          },
          "metadata": {
            "tags": []
          },
          "execution_count": 22
        }
      ]
    },
    {
      "cell_type": "markdown",
      "metadata": {
        "id": "stunning-quilt"
      },
      "source": [
        "# Symbolic differentiation - calculating gradients from the formula"
      ],
      "id": "stunning-quilt"
    },
    {
      "cell_type": "code",
      "metadata": {
        "id": "treated-depth"
      },
      "source": [
        "x = torch.tensor([[1.,-1.],[1.,1.]], requires_grad=True)"
      ],
      "id": "treated-depth",
      "execution_count": null,
      "outputs": []
    },
    {
      "cell_type": "code",
      "metadata": {
        "id": "hazardous-parish",
        "colab": {
          "base_uri": "https://localhost:8080/"
        },
        "outputId": "24c7d3cf-1cfc-4ded-fd16-d9bcb5c23fc2"
      },
      "source": [
        "out = x.pow(2).sum()\n",
        "out"
      ],
      "id": "hazardous-parish",
      "execution_count": null,
      "outputs": [
        {
          "output_type": "execute_result",
          "data": {
            "text/plain": [
              "tensor(4., grad_fn=<SumBackward0>)"
            ]
          },
          "metadata": {
            "tags": []
          },
          "execution_count": 24
        }
      ]
    },
    {
      "cell_type": "code",
      "metadata": {
        "id": "expressed-enough"
      },
      "source": [
        "out.backward()"
      ],
      "id": "expressed-enough",
      "execution_count": null,
      "outputs": []
    },
    {
      "cell_type": "code",
      "metadata": {
        "id": "stuck-uniform",
        "colab": {
          "base_uri": "https://localhost:8080/"
        },
        "outputId": "f5fac325-0268-4553-8da5-5b3654b5dc06"
      },
      "source": [
        "x.grad"
      ],
      "id": "stuck-uniform",
      "execution_count": null,
      "outputs": [
        {
          "output_type": "execute_result",
          "data": {
            "text/plain": [
              "tensor([[ 2., -2.],\n",
              "        [ 2.,  2.]])"
            ]
          },
          "metadata": {
            "tags": []
          },
          "execution_count": 26
        }
      ]
    },
    {
      "cell_type": "markdown",
      "metadata": {
        "id": "9nRJ8iac1RwL"
      },
      "source": [
        "## How we got x.grad:\n",
        "$$ out = x_1^2 + x_2^2 + x_3^2 + x_4^2 \\\\\n",
        "\\frac{\\partial(out)}{\\partial x_1} = 2x_1 \\\\\n",
        "\\frac{\\partial(out)}{\\partial x_2} = 2x_2 \\\\\n",
        "\\frac{\\partial(out)}{\\partial x_3} = 2x_3 \\\\\n",
        "\\frac{\\partial(out)}{\\partial x_4} = 2x_4 $$"
      ],
      "id": "9nRJ8iac1RwL"
    },
    {
      "cell_type": "markdown",
      "metadata": {
        "id": "handy-appearance"
      },
      "source": [
        "## Loading a dataset"
      ],
      "id": "handy-appearance"
    },
    {
      "cell_type": "code",
      "metadata": {
        "id": "verbal-alaska"
      },
      "source": [
        "# defining the data set as a class\n",
        "class CustomDataset(torch.utils.data.Dataset):\n",
        "    def __init__(self, statements, truth):\n",
        "        self.statements = statements\n",
        "        self.truth = truth\n",
        "        \n",
        "    # one x, y value \n",
        "    def __getitem__(self, index):\n",
        "        return self.statements[index], self.truth[index]\n",
        "    \n",
        "    # total number of samples\n",
        "    def __len__(self):\n",
        "        return len(self.truth)"
      ],
      "id": "verbal-alaska",
      "execution_count": null,
      "outputs": []
    },
    {
      "cell_type": "code",
      "metadata": {
        "colab": {
          "base_uri": "https://localhost:8080/"
        },
        "id": "modular-firewall",
        "outputId": "69614a28-f020-411b-97d2-d7ff7c6daa44"
      },
      "source": [
        "# Define a dummy dataset\n",
        "# pass the data in as lists\n",
        "inputs = [\"Bananas are a good source of potassium.\", \"Apples are usually orange.\"]\n",
        "labels = [True, False]\n",
        "\n",
        "# creating an instance of our dataset\n",
        "FruitDataset = CustomDataset(inputs, labels)\n",
        "\n",
        "print(FruitDataset.__getitem__(0))\n",
        "FruitDataset.__len__()"
      ],
      "id": "modular-firewall",
      "execution_count": null,
      "outputs": [
        {
          "output_type": "stream",
          "text": [
            "('Bananas are a good source of potassium.', True)\n"
          ],
          "name": "stdout"
        },
        {
          "output_type": "execute_result",
          "data": {
            "text/plain": [
              "2"
            ]
          },
          "metadata": {
            "tags": []
          },
          "execution_count": 28
        }
      ]
    },
    {
      "cell_type": "code",
      "metadata": {
        "colab": {
          "base_uri": "https://localhost:8080/"
        },
        "id": "hawaiian-cooper",
        "outputId": "d84762d0-bf34-4426-e67b-927d177355b4"
      },
      "source": [
        "# We can now use torch's DataLoader to create batches, shuffle etc!\n",
        "# batch size = 1\n",
        "FruitDataLoader1 = torch.utils.data.DataLoader(FruitDataset, batch_size=1, shuffle=True)\n",
        "\n",
        "for i, data in enumerate(FruitDataLoader1):\n",
        "    print(i, data)\n",
        "print()\n"
      ],
      "id": "hawaiian-cooper",
      "execution_count": null,
      "outputs": [
        {
          "output_type": "stream",
          "text": [
            "0 [('Bananas are a good source of potassium.',), tensor([True])]\n",
            "1 [('Apples are usually orange.',), tensor([False])]\n",
            "\n"
          ],
          "name": "stdout"
        }
      ]
    },
    {
      "cell_type": "code",
      "metadata": {
        "colab": {
          "base_uri": "https://localhost:8080/"
        },
        "id": "attached-worse",
        "outputId": "68e0c6ec-43e2-4426-b182-46c59027df42"
      },
      "source": [
        "# batch size = 2\n",
        "FruitDataLoader2 = torch.utils.data.DataLoader(FruitDataset, batch_size=2, shuffle=True)\n",
        "for i, data in enumerate(FruitDataLoader2):\n",
        "    print(i, data)"
      ],
      "id": "attached-worse",
      "execution_count": null,
      "outputs": [
        {
          "output_type": "stream",
          "text": [
            "0 [('Apples are usually orange.', 'Bananas are a good source of potassium.'), tensor([False,  True])]\n"
          ],
          "name": "stdout"
        }
      ]
    },
    {
      "cell_type": "markdown",
      "metadata": {
        "id": "proved-neighborhood"
      },
      "source": [
        "## Let's use the MNIST - handwritten digits dataset"
      ],
      "id": "proved-neighborhood"
    },
    {
      "cell_type": "code",
      "metadata": {
        "colab": {
          "base_uri": "https://localhost:8080/",
          "height": 403,
          "referenced_widgets": [
            "2dbc1ddc4c7e43b6bd6539d4dfe8fa13",
            "b301011a33f643268c354e2b3923b14f",
            "fa00996919324763b2cdc1859dea5849",
            "e62423b26de0469cbb0658425e7d134f",
            "f5b5ceb6a4a7492883bc86acd89b364e",
            "ae908639b2714dc9a38f95f72ecff960",
            "dbdad1c11aa94b0b9c75811d07ea4ca5",
            "06b11af54709494da89ce916862ab589",
            "a9f0c2af589c4f0f9c1e0b48494031a0",
            "dc29342a17184a879bc3fb451724ce72",
            "7fa4bc78527646ddadbaaf8d4627356c",
            "7db1400a775a4c41ba2c6a8d3f2e2529",
            "67a2f80f4c16476c9f29bb66b3212707",
            "b8f9be29b6074c21826d4cef49976442",
            "280651c172644a0b961f236202d3a3c0",
            "551e9849baaa4ddb9862eb47f1127f39",
            "1534a38af18143f2affc5bc7cec24228",
            "1572a3d00b324b3a9ba2b14a50618812",
            "466751ddc0e849f99effbf9562667090",
            "3426bdcbf87c45da97ce9b8b7bab7d7e",
            "5c6c12c07e564847a59d32cf4d254224",
            "c22b649ac15d44fab90dce4dc5082dfc",
            "da21302bbe17486d8c6e2d86c8c3fee9",
            "bdbef043f6464faa800c4735be7cda30",
            "47dd5416e94341cbafe8db8f69597f4c",
            "b84419adb5d64e0e89ce65f1e0bc52a8",
            "76e8b3f7029245ec9d587901be5455c1",
            "e49ff20d2acd4087b3296d077bd81ae0",
            "8ef449d7d5c34301ad2aa006e624ff9c",
            "58a3d46a2352487ab18e5dc37a9d9e8a",
            "c48eefe9b12f417e93625a4006110ac8",
            "c18ac7751b4c4bfeb0e7b83e93001d7b"
          ]
        },
        "id": "foster-shield",
        "outputId": "30ec8785-39f7-4a1f-c910-76826363a48a"
      },
      "source": [
        "# torch already stores the dataset                                     \n",
        "TrainDataset = torchvision.datasets.MNIST(\"./data\", train=True, transform=torchvision.transforms.ToTensor(), download=True)\n",
        "TestDataset = torchvision.datasets.MNIST(\"./data\", transform=torchvision.transforms.ToTensor(), download=True)\n",
        "\n",
        "# defining our custom loaders\n",
        "TrainDataLoader = torch.utils.data.DataLoader(TrainDataset, batch_size=16, shuffle=True)\n",
        "TestDataLoader = torch.utils.data.DataLoader(TestDataset, batch_size=16, shuffle=True)"
      ],
      "id": "foster-shield",
      "execution_count": null,
      "outputs": [
        {
          "output_type": "stream",
          "text": [
            "Downloading http://yann.lecun.com/exdb/mnist/train-images-idx3-ubyte.gz to ./data/MNIST/raw/train-images-idx3-ubyte.gz\n"
          ],
          "name": "stdout"
        },
        {
          "output_type": "display_data",
          "data": {
            "application/vnd.jupyter.widget-view+json": {
              "model_id": "2dbc1ddc4c7e43b6bd6539d4dfe8fa13",
              "version_minor": 0,
              "version_major": 2
            },
            "text/plain": [
              "HBox(children=(FloatProgress(value=1.0, bar_style='info', max=1.0), HTML(value='')))"
            ]
          },
          "metadata": {
            "tags": []
          }
        },
        {
          "output_type": "stream",
          "text": [
            "Extracting ./data/MNIST/raw/train-images-idx3-ubyte.gz to ./data/MNIST/raw\n",
            "Downloading http://yann.lecun.com/exdb/mnist/train-labels-idx1-ubyte.gz to ./data/MNIST/raw/train-labels-idx1-ubyte.gz\n"
          ],
          "name": "stdout"
        },
        {
          "output_type": "display_data",
          "data": {
            "application/vnd.jupyter.widget-view+json": {
              "model_id": "a9f0c2af589c4f0f9c1e0b48494031a0",
              "version_minor": 0,
              "version_major": 2
            },
            "text/plain": [
              "HBox(children=(FloatProgress(value=1.0, bar_style='info', max=1.0), HTML(value='')))"
            ]
          },
          "metadata": {
            "tags": []
          }
        },
        {
          "output_type": "stream",
          "text": [
            "Extracting ./data/MNIST/raw/train-labels-idx1-ubyte.gz to ./data/MNIST/raw\n",
            "Downloading http://yann.lecun.com/exdb/mnist/t10k-images-idx3-ubyte.gz to ./data/MNIST/raw/t10k-images-idx3-ubyte.gz\n"
          ],
          "name": "stdout"
        },
        {
          "output_type": "display_data",
          "data": {
            "application/vnd.jupyter.widget-view+json": {
              "model_id": "1534a38af18143f2affc5bc7cec24228",
              "version_minor": 0,
              "version_major": 2
            },
            "text/plain": [
              "HBox(children=(FloatProgress(value=1.0, bar_style='info', max=1.0), HTML(value='')))"
            ]
          },
          "metadata": {
            "tags": []
          }
        },
        {
          "output_type": "stream",
          "text": [
            "Extracting ./data/MNIST/raw/t10k-images-idx3-ubyte.gz to ./data/MNIST/raw\n",
            "Downloading http://yann.lecun.com/exdb/mnist/t10k-labels-idx1-ubyte.gz to ./data/MNIST/raw/t10k-labels-idx1-ubyte.gz\n",
            "\n",
            "\n"
          ],
          "name": "stdout"
        },
        {
          "output_type": "display_data",
          "data": {
            "application/vnd.jupyter.widget-view+json": {
              "model_id": "47dd5416e94341cbafe8db8f69597f4c",
              "version_minor": 0,
              "version_major": 2
            },
            "text/plain": [
              "HBox(children=(FloatProgress(value=1.0, bar_style='info', max=1.0), HTML(value='')))"
            ]
          },
          "metadata": {
            "tags": []
          }
        },
        {
          "output_type": "stream",
          "text": [
            "Extracting ./data/MNIST/raw/t10k-labels-idx1-ubyte.gz to ./data/MNIST/raw\n",
            "Processing...\n",
            "Done!\n"
          ],
          "name": "stdout"
        },
        {
          "output_type": "stream",
          "text": [
            "/usr/local/lib/python3.6/dist-packages/torchvision/datasets/mnist.py:480: UserWarning: The given NumPy array is not writeable, and PyTorch does not support non-writeable tensors. This means you can write to the underlying (supposedly non-writeable) NumPy array using the tensor. You may want to copy the array to protect its data or make it writeable before converting it to a tensor. This type of warning will be suppressed for the rest of this program. (Triggered internally at  /pytorch/torch/csrc/utils/tensor_numpy.cpp:141.)\n",
            "  return torch.from_numpy(parsed.astype(m[2], copy=False)).view(*s)\n"
          ],
          "name": "stderr"
        }
      ]
    },
    {
      "cell_type": "code",
      "metadata": {
        "colab": {
          "base_uri": "https://localhost:8080/",
          "height": 333
        },
        "id": "appreciated-runner",
        "scrolled": true,
        "outputId": "e42c9a9a-cb61-44a8-988f-823901628355"
      },
      "source": [
        "# creating an iterator for our train data set\n",
        "TrainIterator = iter(TrainDataLoader)\n",
        "BatchOfSamples = TrainIterator.next()\n",
        "Inputs, Labels = BatchOfSamples\n",
        "\n",
        "# visualizing the data\n",
        "print(Inputs.size(), Labels.size())\n",
        "plt.imshow(Inputs[0].squeeze(), cmap=\"gray\")\n",
        "print(Labels[0])"
      ],
      "id": "appreciated-runner",
      "execution_count": null,
      "outputs": [
        {
          "output_type": "stream",
          "text": [
            "torch.Size([16, 1, 28, 28]) torch.Size([16])\n",
            "tensor(8)\n"
          ],
          "name": "stdout"
        },
        {
          "output_type": "display_data",
          "data": {
            "image/png": "[encoded data removed]",
            "text/plain": [
              "<Figure size 432x288 with 1 Axes>"
            ]
          },
          "metadata": {
            "tags": [],
            "needs_background": "light"
          }
        },
        {
          "output_type": "stream",
          "text": [
            "\n",
            "\n"
          ],
          "name": "stdout"
        }
      ]
    },
    {
      "cell_type": "markdown",
      "metadata": {
        "id": "loved-inspector"
      },
      "source": [
        "## Defining our neural network"
      ],
      "id": "loved-inspector"
    },
    {
      "cell_type": "markdown",
      "metadata": {
        "id": "indian-forwarding"
      },
      "source": [
        "Let's define our neural network with the following parameters: \n",
        "\n",
        "**Layer 1**: 256 units -  $ReLU(WX + b)$\n",
        "\n",
        "**Layer 2**: 128 units - $ReLU(WX + b)$\n",
        "\n",
        "**Output Layer** - $Softmax(WX + b)$\n",
        "\n",
        "**Loss** - Cross-entropy\n",
        "\n"
      ],
      "id": "indian-forwarding"
    },
    {
      "cell_type": "code",
      "metadata": {
        "id": "aggressive-coach"
      },
      "source": [
        "# model \n",
        "\n",
        "class model(nn.Module):\n",
        "    \n",
        "    # implement __init__\n",
        "    def __init__(self, input_dim, output_dim):\n",
        "        super().__init__()\n",
        "        \n",
        "        self.layer1 = nn.Linear(input_dim, 256)  # WX + b\n",
        "        self.layer2 = nn.Linear(256, 128)\n",
        "        self.layer3 = nn.Linear(128, output_dim)\n",
        "        \n",
        "    # forward propagation\n",
        "    def forward(self, x):\n",
        "        x = F.relu(self.layer1(x))\n",
        "        x = F.relu(self.layer2(x))\n",
        "        \n",
        "        # output \n",
        "        x = self.layer3(x)    \n",
        "        \n",
        "        return x   "
      ],
      "id": "aggressive-coach",
      "execution_count": null,
      "outputs": []
    },
    {
      "cell_type": "code",
      "metadata": {
        "colab": {
          "base_uri": "https://localhost:8080/"
        },
        "id": "dental-walter",
        "outputId": "969a8a93-8dad-4530-a7e9-9ccf22db3c0c"
      },
      "source": [
        "# my model\n",
        "\n",
        "myModel = model(784, 10)\n",
        "\n",
        "myModel"
      ],
      "id": "dental-walter",
      "execution_count": null,
      "outputs": [
        {
          "output_type": "execute_result",
          "data": {
            "text/plain": [
              "model(\n",
              "  (layer1): Linear(in_features=784, out_features=256, bias=True)\n",
              "  (layer2): Linear(in_features=256, out_features=128, bias=True)\n",
              "  (layer3): Linear(in_features=128, out_features=10, bias=True)\n",
              ")"
            ]
          },
          "metadata": {
            "tags": []
          },
          "execution_count": 34
        }
      ]
    },
    {
      "cell_type": "code",
      "metadata": {
        "id": "processed-polyester"
      },
      "source": [
        "# choose a loss function \n",
        "\n",
        "loss = nn.CrossEntropyLoss()     # includes Softmax \n",
        "\n",
        "# optimizer \n",
        "Optimizer = torch.optim.Adam(myModel.parameters(), lr = 0.01)\n"
      ],
      "id": "processed-polyester",
      "execution_count": null,
      "outputs": []
    },
    {
      "cell_type": "code",
      "metadata": {
        "id": "rotary-daisy"
      },
      "source": [
        "# Training "
      ],
      "id": "rotary-daisy",
      "execution_count": null,
      "outputs": []
    },
    {
      "cell_type": "code",
      "metadata": {
        "collapsed": true,
        "colab": {
          "base_uri": "https://localhost:8080/"
        },
        "id": "elect-dollar",
        "outputId": "60d582a7-fac6-49ce-9f02-622615b57e48"
      },
      "source": [
        "myModel.train()\n",
        "\n",
        "for epoch in range(10):   # for 10 epochs\n",
        "    for batch in iter(TrainDataLoader):      # for each batch\n",
        "        \n",
        "        batch_inputs, batch_labels = batch\n",
        "        batch_inputs = torch.reshape(batch_inputs, [16, 784])\n",
        "        \n",
        "        # gradients accumulate, so we need to clear them out at every iteration\n",
        "        Optimizer.zero_grad()\n",
        "        \n",
        "        predictions = myModel(batch_inputs)\n",
        "        \n",
        "        # loss \n",
        "        current_loss = loss(predictions, batch_labels)\n",
        "        \n",
        "        current_loss.backward()\n",
        "              \n",
        "        Optimizer.step()    # x_new = x_old - lr*grad \n",
        "        \n",
        "    print(\"Epoch: {} Loss: {}\".format(epoch+1, current_loss))\n",
        "        "
      ],
      "id": "elect-dollar",
      "execution_count": null,
      "outputs": [
        {
          "output_type": "stream",
          "text": [
            "Epoch: 1 Loss: 0.11998143047094345\n",
            "Epoch: 2 Loss: 0.31455111503601074\n",
            "Epoch: 3 Loss: 0.7755317687988281\n",
            "Epoch: 4 Loss: 0.7266566753387451\n",
            "Epoch: 5 Loss: 0.5225412249565125\n",
            "Epoch: 6 Loss: 0.02437543496489525\n",
            "Epoch: 7 Loss: 0.0005262780468910933\n",
            "Epoch: 8 Loss: 0.003448616713285446\n",
            "Epoch: 9 Loss: 0.00010077882325276732\n",
            "Epoch: 10 Loss: 0.2999613285064697\n"
          ],
          "name": "stdout"
        }
      ]
    },
    {
      "cell_type": "code",
      "metadata": {
        "scrolled": true,
        "colab": {
          "base_uri": "https://localhost:8080/",
          "height": 282
        },
        "id": "exceptional-individual",
        "outputId": "bafcc27f-00d6-4f47-de3d-878e33bb40c3"
      },
      "source": [
        "# test\n",
        "\n",
        "myModel.eval()\n",
        "\n",
        "ip = torch.reshape(Inputs[0], [1, 784])\n",
        "pred = myModel(ip).argmax(axis = 1)\n",
        "\n",
        "plt.imshow(Inputs[0].squeeze(), cmap=\"gray\")\n",
        "print(\"prediction : \", pred.item())"
      ],
      "id": "exceptional-individual",
      "execution_count": null,
      "outputs": [
        {
          "output_type": "stream",
          "text": [
            "prediction :  8\n"
          ],
          "name": "stdout"
        },
        {
          "output_type": "display_data",
          "data": {
            "image/png": "[encoded data removed]",
            "text/plain": [
              "<Figure size 432x288 with 1 Axes>"
            ]
          },
          "metadata": {
            "tags": [],
            "needs_background": "light"
          }
        }
      ]
    },
    {
      "cell_type": "code",
      "metadata": {
        "colab": {
          "base_uri": "https://localhost:8080/"
        },
        "id": "studied-acoustic",
        "outputId": "7f5046ee-2832-4890-9585-1d621312c673"
      },
      "source": [
        "correct = 0\n",
        "total = 0\n",
        "for data in iter(TestDataLoader):\n",
        "    # each testing sample\n",
        "    batch_inputs, batch_labels = data\n",
        "    batch_inputs = torch.reshape(batch_inputs, [16, 784])\n",
        "\n",
        "    # predicting outputs\n",
        "    predictions = myModel(batch_inputs).argmax(axis=1)\n",
        "\n",
        "    total += len(batch_labels)\n",
        "\n",
        "    # total number of correct predictions\n",
        "    correct += (predictions==batch_labels).sum().item()\n",
        "\n",
        "    \n",
        "print(100*correct/total,\"%\")"
      ],
      "id": "studied-acoustic",
      "execution_count": null,
      "outputs": [
        {
          "output_type": "stream",
          "text": [
            "96.85166666666667 %\n"
          ],
          "name": "stdout"
        }
      ]
    },
    {
      "cell_type": "code",
      "metadata": {
        "id": "appointed-arlington"
      },
      "source": [
        "# save the weights\n",
        "torch.save(myModel.state_dict(), \"./myModel.pt\")\n"
      ],
      "id": "appointed-arlington",
      "execution_count": null,
      "outputs": []
    },
    {
      "cell_type": "code",
      "metadata": {
        "colab": {
          "base_uri": "https://localhost:8080/"
        },
        "id": "tested-liberia",
        "outputId": "8b64c034-cbdb-4ac5-bb81-62ba3d784e3e"
      },
      "source": [
        "# load the weights\n",
        "myNewModel = model(784, 10)\n",
        "\n",
        "modelWeights = torch.load(\"./myModel.pt\")\n",
        "\n",
        "myNewModel.load_state_dict(modelWeights)"
      ],
      "id": "tested-liberia",
      "execution_count": null,
      "outputs": [
        {
          "output_type": "execute_result",
          "data": {
            "text/plain": [
              "<All keys matched successfully>"
            ]
          },
          "metadata": {
            "tags": []
          },
          "execution_count": 41
        }
      ]
    },
    {
      "cell_type": "markdown",
      "metadata": {
        "id": "theoretical-chocolate"
      },
      "source": [
        "### **Thank you for coming!!**\n",
        "LINK TO FEEDBACK FORM: https://tinyurl.com/w21-atrack6-fb \n",
        "\n",
        "GITHUB: https://github.com/uclaacmai/advanced-track-winter21 \n",
        "\n",
        "FACEBOOK: www.facebook.com/groups/uclaacmai \n",
        "\n",
        "OH: Thursdays 9-10 pm PST on ACM Discord"
      ],
      "id": "theoretical-chocolate"
    },
    {
      "cell_type": "code",
      "metadata": {
        "id": "rotary-laptop"
      },
      "source": [
        ""
      ],
      "id": "rotary-laptop",
      "execution_count": null,
      "outputs": []
    }
  ]
}